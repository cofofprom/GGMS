{
 "cells": [
  {
   "cell_type": "code",
   "execution_count": 13,
   "metadata": {},
   "outputs": [],
   "source": [
    "from GGMS.solvers import *\n",
    "from GGMS.spd_generators import *\n",
    "from GGMS.stat_funcs import *\n",
    "from tqdm import tqdm\n",
    "import pandas as pd"
   ]
  },
  {
   "cell_type": "code",
   "execution_count": 46,
   "metadata": {},
   "outputs": [],
   "source": [
    "N = 20\n",
    "n = 22\n",
    "delta = 0.1"
   ]
  },
  {
   "cell_type": "code",
   "execution_count": 47,
   "metadata": {},
   "outputs": [],
   "source": [
    "precision = np.diag([delta for _ in range(N-1)], 1) + np.diag([delta for _ in range(N-1)], -1) + np.eye(N)\n",
    "covariance = np.linalg.inv(precision)\n",
    "pc = pcorr(precision)\n",
    "ed = pcorr_to_edge_dict(pc)\n",
    "G = edge_dict_to_graph(ed, N)"
   ]
  },
  {
   "cell_type": "code",
   "execution_count": 48,
   "metadata": {},
   "outputs": [
    {
     "data": {
      "image/png": "[encoded data removed]",
      "text/plain": [
       "<Figure size 640x480 with 1 Axes>"
      ]
     },
     "metadata": {},
     "output_type": "display_data"
    }
   ],
   "source": [
    "nx.draw_networkx(G)"
   ]
  },
  {
   "cell_type": "code",
   "execution_count": 52,
   "metadata": {},
   "outputs": [],
   "source": [
    "S_obs = 3000\n",
    "solvers = [SimInf(), Bonferroni(), Holm(), BenjaminiHochberg(), BenjaminiYekutieli()]"
   ]
  },
  {
   "cell_type": "code",
   "execution_count": 53,
   "metadata": {},
   "outputs": [
    {
     "name": "stderr",
     "output_type": "stream",
     "text": [
      "100%|██████████| 3000/3000 [04:06<00:00, 12.15it/s]\n"
     ]
    }
   ],
   "source": [
    "solver_results = {solver.__class__.__name__: [[], [], [], [], []] for solver in solvers}\n",
    "\n",
    "for _ in tqdm(range(S_obs)):\n",
    "    samples = np.random.multivariate_normal(np.zeros(N), covariance, size=n)\n",
    "    X = perform_test(samples, inv=np.linalg.inv)\n",
    "    for solver in solvers:\n",
    "        solver.fit(X)\n",
    "        sname = solver.__class__.__name__\n",
    "        tp, tn, fp, fn = confusion(solver.graph, G)\n",
    "        solver_results[sname][0].append(tp)\n",
    "        solver_results[sname][1].append(tn)\n",
    "        solver_results[sname][2].append(fp)\n",
    "        solver_results[sname][3].append(fn)\n",
    "        solver_results[sname][4].append(fp / (fp + tp) if fp + tp > 0 else 0)"
   ]
  },
  {
   "cell_type": "code",
   "execution_count": 54,
   "metadata": {},
   "outputs": [
    {
     "data": {
      "text/html": [
       "<div>\n",
       "<style scoped>\n",
       "    .dataframe tbody tr th:only-of-type {\n",
       "        vertical-align: middle;\n",
       "    }\n",
       "\n",
       "    .dataframe tbody tr th {\n",
       "        vertical-align: top;\n",
       "    }\n",
       "\n",
       "    .dataframe thead th {\n",
       "        text-align: right;\n",
       "    }\n",
       "</style>\n",
       "<table border=\"1\" class=\"dataframe\">\n",
       "  <thead>\n",
       "    <tr style=\"text-align: right;\">\n",
       "      <th></th>\n",
       "      <th>TP</th>\n",
       "      <th>TN</th>\n",
       "      <th>FP</th>\n",
       "      <th>FN</th>\n",
       "      <th>FDR</th>\n",
       "      <th>TPR</th>\n",
       "    </tr>\n",
       "  </thead>\n",
       "  <tbody>\n",
       "    <tr>\n",
       "      <th>SimInf</th>\n",
       "      <td>1.859333</td>\n",
       "      <td>154.602333</td>\n",
       "      <td>16.397667</td>\n",
       "      <td>17.140667</td>\n",
       "      <td>0.688460</td>\n",
       "      <td>0.097860</td>\n",
       "    </tr>\n",
       "    <tr>\n",
       "      <th>Bonferroni</th>\n",
       "      <td>0.009000</td>\n",
       "      <td>170.909333</td>\n",
       "      <td>0.090667</td>\n",
       "      <td>18.991000</td>\n",
       "      <td>0.005105</td>\n",
       "      <td>0.000474</td>\n",
       "    </tr>\n",
       "    <tr>\n",
       "      <th>Holm</th>\n",
       "      <td>0.012000</td>\n",
       "      <td>170.877333</td>\n",
       "      <td>0.122667</td>\n",
       "      <td>18.988000</td>\n",
       "      <td>0.005104</td>\n",
       "      <td>0.000632</td>\n",
       "    </tr>\n",
       "    <tr>\n",
       "      <th>BenjaminiHochberg</th>\n",
       "      <td>0.356333</td>\n",
       "      <td>167.789667</td>\n",
       "      <td>3.210333</td>\n",
       "      <td>18.643667</td>\n",
       "      <td>0.029701</td>\n",
       "      <td>0.018754</td>\n",
       "    </tr>\n",
       "    <tr>\n",
       "      <th>BenjaminiYekutieli</th>\n",
       "      <td>0.050333</td>\n",
       "      <td>170.562000</td>\n",
       "      <td>0.438000</td>\n",
       "      <td>18.949667</td>\n",
       "      <td>0.004178</td>\n",
       "      <td>0.002649</td>\n",
       "    </tr>\n",
       "  </tbody>\n",
       "</table>\n",
       "</div>"
      ],
      "text/plain": [
       "                          TP          TN         FP         FN       FDR  \\\n",
       "SimInf              1.859333  154.602333  16.397667  17.140667  0.688460   \n",
       "Bonferroni          0.009000  170.909333   0.090667  18.991000  0.005105   \n",
       "Holm                0.012000  170.877333   0.122667  18.988000  0.005104   \n",
       "BenjaminiHochberg   0.356333  167.789667   3.210333  18.643667  0.029701   \n",
       "BenjaminiYekutieli  0.050333  170.562000   0.438000  18.949667  0.004178   \n",
       "\n",
       "                         TPR  \n",
       "SimInf              0.097860  \n",
       "Bonferroni          0.000474  \n",
       "Holm                0.000632  \n",
       "BenjaminiHochberg   0.018754  \n",
       "BenjaminiYekutieli  0.002649  "
      ]
     },
     "execution_count": 54,
     "metadata": {},
     "output_type": "execute_result"
    }
   ],
   "source": [
    "solver_means = {}\n",
    "for solver in solver_results:\n",
    "    solver_means[solver] = np.mean(np.array(solver_results[solver]), axis=1)\n",
    "\n",
    "solver_means = pd.DataFrame(solver_means, index=['TP', 'TN', 'FP', 'FN', 'FDR']).T\n",
    "solver_means['TPR'] = solver_means['TP'] / (solver_means['TP'] + solver_means['FN'])\n",
    "solver_means"
   ]
  },
  {
   "cell_type": "code",
   "execution_count": null,
   "metadata": {},
   "outputs": [],
   "source": []
  },
  {
   "cell_type": "code",
   "execution_count": null,
   "metadata": {},
   "outputs": [],
   "source": []
  }
 ],
 "metadata": {
  "kernelspec": {
   "display_name": "Python 3.9.16 ('base')",
   "language": "python",
   "name": "python3"
  },
  "language_info": {
   "codemirror_mode": {
    "name": "ipython",
    "version": 3
   },
   "file_extension": ".py",
   "mimetype": "text/x-python",
   "name": "python",
   "nbconvert_exporter": "python",
   "pygments_lexer": "ipython3",
   "version": "3.9.16"
  },
  "orig_nbformat": 4,
  "vscode": {
   "interpreter": {
    "hash": "6f5583cf1d9466b5c27e75c89cc6b383bed5736d6b16c51c8074d8690011a952"
   }
  }
 },
 "nbformat": 4,
 "nbformat_minor": 2
}
