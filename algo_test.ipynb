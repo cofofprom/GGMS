{
 "cells": [
  {
   "cell_type": "code",
   "execution_count": 1,
   "metadata": {},
   "outputs": [],
   "source": [
    "from GGMS.solvers import *\n",
    "from GGMS.spd_generators import *\n",
    "from GGMS.stat_funcs import *\n",
    "from GGMS.experimenting import *\n",
    "from GGMS.metrics import *\n",
    "from tqdm import tqdm\n",
    "from tqdm.notebook import trange\n",
    "import pandas as pd\n",
    "from scipy.stats import hmean"
   ]
  },
  {
   "cell_type": "code",
   "execution_count": 56,
   "metadata": {},
   "outputs": [],
   "source": [
    "N = 20\n",
    "n = 100\n",
    "delta = 0.1"
   ]
  },
  {
   "cell_type": "code",
   "execution_count": 57,
   "metadata": {},
   "outputs": [],
   "source": [
    "precision = np.diag([delta for _ in range(N-1)], 1) + np.diag([delta for _ in range(N-1)], -1) + np.eye(N)\n",
    "covariance = np.linalg.inv(precision)\n",
    "pc = pcorr(precision)\n",
    "ed = pcorr_to_edge_dict(pc)\n",
    "G = edge_dict_to_graph(ed, N)"
   ]
  },
  {
   "cell_type": "code",
   "execution_count": 58,
   "metadata": {},
   "outputs": [],
   "source": [
    "#precision, covariance, pc, ed, G = generate_chol_model(20, 0.94)"
   ]
  },
  {
   "cell_type": "code",
   "execution_count": 59,
   "metadata": {},
   "outputs": [
    {
     "data": {
      "image/png": "[encoded data removed]",
      "text/plain": [
       "<Figure size 640x480 with 1 Axes>"
      ]
     },
     "metadata": {},
     "output_type": "display_data"
    }
   ],
   "source": [
    "nx.draw_networkx(G)"
   ]
  },
  {
   "cell_type": "code",
   "execution_count": 60,
   "metadata": {},
   "outputs": [],
   "source": [
    "S_obs = 2000\n",
    "solvers = [SimInf(), Bonferroni(), Holm(), BenjaminiHochberg(), BenjaminiYekutieli()]"
   ]
  },
  {
   "cell_type": "code",
   "execution_count": 61,
   "metadata": {},
   "outputs": [],
   "source": []
  },
  {
   "cell_type": "code",
   "execution_count": 62,
   "metadata": {},
   "outputs": [
    {
     "data": {
      "application/vnd.jupyter.widget-view+json": {
       "model_id": "546f5f1be6bf4f9b8e24ad6b52283cd4",
       "version_major": 2,
       "version_minor": 0
      },
      "text/plain": [
       "  0%|          | 0/2000 [00:00<?, ?it/s]"
      ]
     },
     "metadata": {},
     "output_type": "display_data"
    }
   ],
   "source": [
    "exp1 = perform_experiments_with_given_model(22, covariance, G, S_obs, solvers, [TP, FN, FP, FN, FDR, TPR, F1], ranger=range).T"
   ]
  },
  {
   "cell_type": "code",
   "execution_count": 63,
   "metadata": {},
   "outputs": [
    {
     "data": {
      "application/vnd.jupyter.widget-view+json": {
       "model_id": "1ad6aff6258b4525b28d191f25a5dee1",
       "version_major": 2,
       "version_minor": 0
      },
      "text/plain": [
       "  0%|          | 0/2000 [00:00<?, ?it/s]"
      ]
     },
     "metadata": {},
     "output_type": "display_data"
    }
   ],
   "source": [
    "exp2 = perform_experiments_with_given_model(100, covariance, G, S_obs, solvers, [TP, FN, FP, FN, FDR, TPR, F1], ranger=range).T"
   ]
  },
  {
   "cell_type": "code",
   "execution_count": 64,
   "metadata": {},
   "outputs": [
    {
     "data": {
      "application/vnd.jupyter.widget-view+json": {
       "model_id": "bae40a6f4e5a4ce898bf24ee36c73476",
       "version_major": 2,
       "version_minor": 0
      },
      "text/plain": [
       "  0%|          | 0/2000 [00:00<?, ?it/s]"
      ]
     },
     "metadata": {},
     "output_type": "display_data"
    }
   ],
   "source": [
    "exp3 = perform_experiments_with_given_model(200, covariance, G, S_obs, solvers, [TP, FN, FP, FN, FDR, TPR, F1], ranger=range).T"
   ]
  },
  {
   "cell_type": "code",
   "execution_count": 68,
   "metadata": {},
   "outputs": [
    {
     "data": {
      "text/html": [
       "<div>\n",
       "<style scoped>\n",
       "    .dataframe tbody tr th:only-of-type {\n",
       "        vertical-align: middle;\n",
       "    }\n",
       "\n",
       "    .dataframe tbody tr th {\n",
       "        vertical-align: top;\n",
       "    }\n",
       "\n",
       "    .dataframe thead th {\n",
       "        text-align: right;\n",
       "    }\n",
       "</style>\n",
       "<table border=\"1\" class=\"dataframe\">\n",
       "  <thead>\n",
       "    <tr style=\"text-align: right;\">\n",
       "      <th></th>\n",
       "      <th>TP</th>\n",
       "      <th>FN</th>\n",
       "      <th>FP</th>\n",
       "      <th>FN</th>\n",
       "      <th>FDR</th>\n",
       "      <th>TPR</th>\n",
       "      <th>F1</th>\n",
       "    </tr>\n",
       "  </thead>\n",
       "  <tbody>\n",
       "    <tr>\n",
       "      <th>SimInf</th>\n",
       "      <td>1.9915</td>\n",
       "      <td>17.0085</td>\n",
       "      <td>17.2675</td>\n",
       "      <td>17.0085</td>\n",
       "      <td>0.714941</td>\n",
       "      <td>0.104816</td>\n",
       "      <td>0.064647</td>\n",
       "    </tr>\n",
       "    <tr>\n",
       "      <th>Bonferroni</th>\n",
       "      <td>0.0040</td>\n",
       "      <td>18.9960</td>\n",
       "      <td>0.0370</td>\n",
       "      <td>18.9960</td>\n",
       "      <td>0.005194</td>\n",
       "      <td>0.000211</td>\n",
       "      <td>0.000203</td>\n",
       "    </tr>\n",
       "    <tr>\n",
       "      <th>Holm</th>\n",
       "      <td>0.0040</td>\n",
       "      <td>18.9960</td>\n",
       "      <td>0.0510</td>\n",
       "      <td>18.9960</td>\n",
       "      <td>0.005223</td>\n",
       "      <td>0.000211</td>\n",
       "      <td>0.000177</td>\n",
       "    </tr>\n",
       "    <tr>\n",
       "      <th>BenjaminiHochberg</th>\n",
       "      <td>0.3895</td>\n",
       "      <td>18.6105</td>\n",
       "      <td>3.4825</td>\n",
       "      <td>18.6105</td>\n",
       "      <td>0.031451</td>\n",
       "      <td>0.020500</td>\n",
       "      <td>0.005825</td>\n",
       "    </tr>\n",
       "    <tr>\n",
       "      <th>BenjaminiYekutieli</th>\n",
       "      <td>0.0475</td>\n",
       "      <td>18.9525</td>\n",
       "      <td>0.4275</td>\n",
       "      <td>18.9525</td>\n",
       "      <td>0.004053</td>\n",
       "      <td>0.002500</td>\n",
       "      <td>0.000751</td>\n",
       "    </tr>\n",
       "  </tbody>\n",
       "</table>\n",
       "</div>"
      ],
      "text/plain": [
       "                        TP       FN       FP       FN       FDR       TPR  \\\n",
       "SimInf              1.9915  17.0085  17.2675  17.0085  0.714941  0.104816   \n",
       "Bonferroni          0.0040  18.9960   0.0370  18.9960  0.005194  0.000211   \n",
       "Holm                0.0040  18.9960   0.0510  18.9960  0.005223  0.000211   \n",
       "BenjaminiHochberg   0.3895  18.6105   3.4825  18.6105  0.031451  0.020500   \n",
       "BenjaminiYekutieli  0.0475  18.9525   0.4275  18.9525  0.004053  0.002500   \n",
       "\n",
       "                          F1  \n",
       "SimInf              0.064647  \n",
       "Bonferroni          0.000203  \n",
       "Holm                0.000177  \n",
       "BenjaminiHochberg   0.005825  \n",
       "BenjaminiYekutieli  0.000751  "
      ]
     },
     "execution_count": 68,
     "metadata": {},
     "output_type": "execute_result"
    }
   ],
   "source": [
    "exp1"
   ]
  },
  {
   "cell_type": "code",
   "execution_count": 69,
   "metadata": {},
   "outputs": [
    {
     "data": {
      "text/html": [
       "<div>\n",
       "<style scoped>\n",
       "    .dataframe tbody tr th:only-of-type {\n",
       "        vertical-align: middle;\n",
       "    }\n",
       "\n",
       "    .dataframe tbody tr th {\n",
       "        vertical-align: top;\n",
       "    }\n",
       "\n",
       "    .dataframe thead th {\n",
       "        text-align: right;\n",
       "    }\n",
       "</style>\n",
       "<table border=\"1\" class=\"dataframe\">\n",
       "  <thead>\n",
       "    <tr style=\"text-align: right;\">\n",
       "      <th></th>\n",
       "      <th>TP</th>\n",
       "      <th>FN</th>\n",
       "      <th>FP</th>\n",
       "      <th>FN</th>\n",
       "      <th>FDR</th>\n",
       "      <th>TPR</th>\n",
       "      <th>F1</th>\n",
       "    </tr>\n",
       "  </thead>\n",
       "  <tbody>\n",
       "    <tr>\n",
       "      <th>SimInf</th>\n",
       "      <td>4.371</td>\n",
       "      <td>14.629</td>\n",
       "      <td>17.0125</td>\n",
       "      <td>14.629</td>\n",
       "      <td>0.792170</td>\n",
       "      <td>0.230053</td>\n",
       "      <td>0.214799</td>\n",
       "    </tr>\n",
       "    <tr>\n",
       "      <th>Bonferroni</th>\n",
       "      <td>0.086</td>\n",
       "      <td>18.914</td>\n",
       "      <td>0.0915</td>\n",
       "      <td>18.914</td>\n",
       "      <td>0.079417</td>\n",
       "      <td>0.004526</td>\n",
       "      <td>0.008531</td>\n",
       "    </tr>\n",
       "    <tr>\n",
       "      <th>Holm</th>\n",
       "      <td>0.086</td>\n",
       "      <td>18.914</td>\n",
       "      <td>0.0920</td>\n",
       "      <td>18.914</td>\n",
       "      <td>0.079417</td>\n",
       "      <td>0.004526</td>\n",
       "      <td>0.008531</td>\n",
       "    </tr>\n",
       "    <tr>\n",
       "      <th>BenjaminiHochberg</th>\n",
       "      <td>0.117</td>\n",
       "      <td>18.883</td>\n",
       "      <td>0.1450</td>\n",
       "      <td>18.883</td>\n",
       "      <td>0.086590</td>\n",
       "      <td>0.006158</td>\n",
       "      <td>0.011229</td>\n",
       "    </tr>\n",
       "    <tr>\n",
       "      <th>BenjaminiYekutieli</th>\n",
       "      <td>0.023</td>\n",
       "      <td>18.977</td>\n",
       "      <td>0.0185</td>\n",
       "      <td>18.977</td>\n",
       "      <td>0.016333</td>\n",
       "      <td>0.001211</td>\n",
       "      <td>0.002281</td>\n",
       "    </tr>\n",
       "  </tbody>\n",
       "</table>\n",
       "</div>"
      ],
      "text/plain": [
       "                       TP      FN       FP      FN       FDR       TPR  \\\n",
       "SimInf              4.371  14.629  17.0125  14.629  0.792170  0.230053   \n",
       "Bonferroni          0.086  18.914   0.0915  18.914  0.079417  0.004526   \n",
       "Holm                0.086  18.914   0.0920  18.914  0.079417  0.004526   \n",
       "BenjaminiHochberg   0.117  18.883   0.1450  18.883  0.086590  0.006158   \n",
       "BenjaminiYekutieli  0.023  18.977   0.0185  18.977  0.016333  0.001211   \n",
       "\n",
       "                          F1  \n",
       "SimInf              0.214799  \n",
       "Bonferroni          0.008531  \n",
       "Holm                0.008531  \n",
       "BenjaminiHochberg   0.011229  \n",
       "BenjaminiYekutieli  0.002281  "
      ]
     },
     "execution_count": 69,
     "metadata": {},
     "output_type": "execute_result"
    }
   ],
   "source": [
    "exp2"
   ]
  },
  {
   "cell_type": "code",
   "execution_count": 70,
   "metadata": {},
   "outputs": [
    {
     "data": {
      "text/html": [
       "<div>\n",
       "<style scoped>\n",
       "    .dataframe tbody tr th:only-of-type {\n",
       "        vertical-align: middle;\n",
       "    }\n",
       "\n",
       "    .dataframe tbody tr th {\n",
       "        vertical-align: top;\n",
       "    }\n",
       "\n",
       "    .dataframe thead th {\n",
       "        text-align: right;\n",
       "    }\n",
       "</style>\n",
       "<table border=\"1\" class=\"dataframe\">\n",
       "  <thead>\n",
       "    <tr style=\"text-align: right;\">\n",
       "      <th></th>\n",
       "      <th>TP</th>\n",
       "      <th>FN</th>\n",
       "      <th>FP</th>\n",
       "      <th>FN</th>\n",
       "      <th>FDR</th>\n",
       "      <th>TPR</th>\n",
       "      <th>F1</th>\n",
       "    </tr>\n",
       "  </thead>\n",
       "  <tbody>\n",
       "    <tr>\n",
       "      <th>SimInf</th>\n",
       "      <td>7.1830</td>\n",
       "      <td>11.8170</td>\n",
       "      <td>17.3445</td>\n",
       "      <td>11.8170</td>\n",
       "      <td>0.703094</td>\n",
       "      <td>0.378053</td>\n",
       "      <td>0.329052</td>\n",
       "    </tr>\n",
       "    <tr>\n",
       "      <th>Bonferroni</th>\n",
       "      <td>0.2895</td>\n",
       "      <td>18.7105</td>\n",
       "      <td>0.0900</td>\n",
       "      <td>18.7105</td>\n",
       "      <td>0.071167</td>\n",
       "      <td>0.015237</td>\n",
       "      <td>0.028502</td>\n",
       "    </tr>\n",
       "    <tr>\n",
       "      <th>Holm</th>\n",
       "      <td>0.2900</td>\n",
       "      <td>18.7100</td>\n",
       "      <td>0.0905</td>\n",
       "      <td>18.7100</td>\n",
       "      <td>0.071417</td>\n",
       "      <td>0.015263</td>\n",
       "      <td>0.028545</td>\n",
       "    </tr>\n",
       "    <tr>\n",
       "      <th>BenjaminiHochberg</th>\n",
       "      <td>0.4025</td>\n",
       "      <td>18.5975</td>\n",
       "      <td>0.1780</td>\n",
       "      <td>18.5975</td>\n",
       "      <td>0.087758</td>\n",
       "      <td>0.021184</td>\n",
       "      <td>0.038004</td>\n",
       "    </tr>\n",
       "    <tr>\n",
       "      <th>BenjaminiYekutieli</th>\n",
       "      <td>0.0980</td>\n",
       "      <td>18.9020</td>\n",
       "      <td>0.0180</td>\n",
       "      <td>18.9020</td>\n",
       "      <td>0.015583</td>\n",
       "      <td>0.005158</td>\n",
       "      <td>0.009698</td>\n",
       "    </tr>\n",
       "  </tbody>\n",
       "</table>\n",
       "</div>"
      ],
      "text/plain": [
       "                        TP       FN       FP       FN       FDR       TPR  \\\n",
       "SimInf              7.1830  11.8170  17.3445  11.8170  0.703094  0.378053   \n",
       "Bonferroni          0.2895  18.7105   0.0900  18.7105  0.071167  0.015237   \n",
       "Holm                0.2900  18.7100   0.0905  18.7100  0.071417  0.015263   \n",
       "BenjaminiHochberg   0.4025  18.5975   0.1780  18.5975  0.087758  0.021184   \n",
       "BenjaminiYekutieli  0.0980  18.9020   0.0180  18.9020  0.015583  0.005158   \n",
       "\n",
       "                          F1  \n",
       "SimInf              0.329052  \n",
       "Bonferroni          0.028502  \n",
       "Holm                0.028545  \n",
       "BenjaminiHochberg   0.038004  \n",
       "BenjaminiYekutieli  0.009698  "
      ]
     },
     "execution_count": 70,
     "metadata": {},
     "output_type": "execute_result"
    }
   ],
   "source": [
    "exp3"
   ]
  },
  {
   "cell_type": "code",
   "execution_count": null,
   "metadata": {},
   "outputs": [],
   "source": []
  }
 ],
 "metadata": {
  "kernelspec": {
   "display_name": "Python 3.9.16 ('base')",
   "language": "python",
   "name": "python3"
  },
  "language_info": {
   "codemirror_mode": {
    "name": "ipython",
    "version": 3
   },
   "file_extension": ".py",
   "mimetype": "text/x-python",
   "name": "python",
   "nbconvert_exporter": "python",
   "pygments_lexer": "ipython3",
   "version": "3.9.16"
  },
  "orig_nbformat": 4,
  "vscode": {
   "interpreter": {
    "hash": "6f5583cf1d9466b5c27e75c89cc6b383bed5736d6b16c51c8074d8690011a952"
   }
  }
 },
 "nbformat": 4,
 "nbformat_minor": 2
}
